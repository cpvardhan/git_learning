{
 "cells": [
  {
   "cell_type": "markdown",
   "id": "b7f88bb8",
   "metadata": {},
   "source": [
    "### Question.1: Create the below pattern using nested loop in python"
   ]
  },
  {
   "cell_type": "code",
   "execution_count": 1,
   "id": "66cfdbf4",
   "metadata": {
    "ExecuteTime": {
     "end_time": "2021-12-16T16:16:54.438680Z",
     "start_time": "2021-12-16T16:16:52.717865Z"
    }
   },
   "outputs": [
    {
     "name": "stdout",
     "output_type": "stream",
     "text": [
      "Enter No Of Rows 11\n",
      "* \n",
      "* * \n",
      "* * * \n",
      "* * * * \n",
      "* * * * * \n",
      "* * * * * * \n",
      "* * * * * \n",
      "* * * * \n",
      "* * * \n",
      "* * \n",
      "* \n"
     ]
    }
   ],
   "source": [
    "n =  int(input(\"Enter No Of Rows \"))\n",
    "for i in range(1,n+1):\n",
    "    for j in range(1,n+1):\n",
    "        if j<=i and i+j <=n+1:\n",
    "            print('*',end = \" \")\n",
    "    print()"
   ]
  },
  {
   "cell_type": "markdown",
   "id": "3e15508d",
   "metadata": {},
   "source": [
    "### Write a Python Program to reverse a word after accepting the input from the user"
   ]
  },
  {
   "cell_type": "code",
   "execution_count": 2,
   "id": "bb74e36e",
   "metadata": {
    "ExecuteTime": {
     "end_time": "2021-12-16T16:16:58.219456Z",
     "start_time": "2021-12-16T16:16:54.443676Z"
    }
   },
   "outputs": [
    {
     "name": "stdout",
     "output_type": "stream",
     "text": [
      "Enter a word to be reverse:ineuron\n",
      "norueni\n"
     ]
    }
   ],
   "source": [
    "a = input(\"Enter a word to be reverse:\")\n",
    "print(a[::-1])"
   ]
  }
 ],
 "metadata": {
  "kernelspec": {
   "display_name": "Python 3",
   "language": "python",
   "name": "python3"
  },
  "language_info": {
   "codemirror_mode": {
    "name": "ipython",
    "version": 3
   },
   "file_extension": ".py",
   "mimetype": "text/x-python",
   "name": "python",
   "nbconvert_exporter": "python",
   "pygments_lexer": "ipython3",
   "version": "3.8.8"
  },
  "latex_envs": {
   "LaTeX_envs_menu_present": true,
   "autoclose": false,
   "autocomplete": true,
   "bibliofile": "biblio.bib",
   "cite_by": "apalike",
   "current_citInitial": 1,
   "eqLabelWithNumbers": true,
   "eqNumInitial": 1,
   "hotkeys": {
    "equation": "Ctrl-E",
    "itemize": "Ctrl-I"
   },
   "labels_anchors": false,
   "latex_user_defs": false,
   "report_style_numbering": false,
   "user_envs_cfg": false
  }
 },
 "nbformat": 4,
 "nbformat_minor": 5
}
